{
 "cells": [
  {
   "attachments": {},
   "cell_type": "markdown",
   "metadata": {},
   "source": [
    "## Addresses / Wallet"
   ]
  },
  {
   "attachments": {},
   "cell_type": "markdown",
   "metadata": {},
   "source": [
    "### Generate keys and address\n",
    "\n",
    "If you already have a payment address and keys and you want to use those, you can skip this step. If not - we need to generate those to submit transactions and to send and receive ada or native assets. Payment verification and signing keys are the first keys we need to create."
   ]
  },
  {
   "cell_type": "code",
   "execution_count": null,
   "metadata": {
    "vscode": {
     "languageId": "shellscript"
    }
   },
   "outputs": [],
   "source": [
    "cardano-cli address key-gen \\\n",
    "    --verification-key-file my_address.vkey \\\n",
    "    --signing-key-file my_address.skey"
   ]
  },
  {
   "attachments": {},
   "cell_type": "markdown",
   "metadata": {},
   "source": [
    "Those two keys can now be used to generate an address."
   ]
  },
  {
   "cell_type": "code",
   "execution_count": 58,
   "metadata": {
    "vscode": {
     "languageId": "shellscript"
    }
   },
   "outputs": [],
   "source": [
    "cardano-cli address build \\\n",
    "    --payment-verification-key-file my_address.vkey \\\n",
    "    --out-file my_address.addr \\\n",
    "    --testnet-magic $CARDANO_NODE_MAGIC"
   ]
  },
  {
   "attachments": {},
   "cell_type": "markdown",
   "metadata": {},
   "source": [
    "We will save our address hash in a variable called address."
   ]
  },
  {
   "cell_type": "code",
   "execution_count": 60,
   "metadata": {
    "vscode": {
     "languageId": "shellscript"
    }
   },
   "outputs": [
    {
     "name": "stdout",
     "output_type": "stream",
     "text": [
      "my address is: addr_test1vzqf4qj8mj0d7ld9nfcu4s22rhnvx2f0psldjd5gm2z8j6gvqhvde\n"
     ]
    }
   ],
   "source": [
    "MY_ADDRESS=$(cat my_address.addr)\n",
    "\n",
    "echo \"my address is: $MY_ADDRESS\""
   ]
  },
  {
   "attachments": {},
   "cell_type": "markdown",
   "metadata": {},
   "source": [
    "### Fund the address\n",
    "\n",
    "Submitting transactions always require you to pay a fee. Sending native assets requires also requires sending at least 1 ada. So make sure the address you are going to use as the input for the minting transaction has sufficient funds.\n",
    "\n",
    "For the testnet, you can request funds through the [testnet faucet](https://docs.cardano.org/cardano-testnet/tools/faucet)."
   ]
  },
  {
   "attachments": {},
   "cell_type": "markdown",
   "metadata": {},
   "source": [
    "### Query address funds\n",
    "\n",
    "Once we've finished requesting funds from the corresponding faucet, we can query the node to ensure that our address now displays the expected amount. For that, we execute the query utxo command using our recently generated address:"
   ]
  },
  {
   "cell_type": "code",
   "execution_count": 61,
   "metadata": {
    "vscode": {
     "languageId": "shellscript"
    }
   },
   "outputs": [
    {
     "name": "stdout",
     "output_type": "stream",
     "text": [
      "                           TxHash                                 TxIx        Amount\n",
      "--------------------------------------------------------------------------------------\n",
      "fed2616805689edada882eb02c1d70d70f02f12f280c0b3baf6c4c2289204f87     1        9949834279 lovelace + TxOutDatumNone\n"
     ]
    }
   ],
   "source": [
    "cardano-cli query utxo \\\n",
    "    --address $MY_ADDRESS \\\n",
    "    --testnet-magic $CARDANO_NODE_MAGIC"
   ]
  },
  {
   "attachments": {},
   "cell_type": "markdown",
   "metadata": {},
   "source": [
    "## Build Transactions\n",
    "\n",
    "In this tutorial, we'll attempt to create a simple transaction that transfer ADA from one address to another."
   ]
  },
  {
   "attachments": {},
   "cell_type": "markdown",
   "metadata": {},
   "source": [
    "\n",
    "### Generate Address for the Destinatary\n",
    "\n",
    "In part [01](./01-account-management.md) we created our own address and added some funds. Since the goal of this part is to transfer ADA, we'll need to do the same for the destinatary of the transfer.\n",
    "\n",
    "Run the key-gen command again, but output the keys to different files."
   ]
  },
  {
   "cell_type": "code",
   "execution_count": 62,
   "metadata": {
    "vscode": {
     "languageId": "shellscript"
    }
   },
   "outputs": [],
   "source": [
    "cardano-cli address key-gen \\\n",
    "    --verification-key-file other_address.vkey \\\n",
    "    --signing-key-file other_address.skey"
   ]
  },
  {
   "attachments": {},
   "cell_type": "markdown",
   "metadata": {},
   "source": [
    "Those two keys can now be used to generate an address."
   ]
  },
  {
   "cell_type": "code",
   "execution_count": 63,
   "metadata": {
    "vscode": {
     "languageId": "shellscript"
    }
   },
   "outputs": [],
   "source": [
    "cardano-cli address build \\\n",
    "    --payment-verification-key-file other_address.vkey \\\n",
    "    --out-file other_address.addr \\\n",
    "    --testnet-magic $CARDANO_NODE_MAGIC"
   ]
  },
  {
   "attachments": {},
   "cell_type": "markdown",
   "metadata": {},
   "source": [
    "We will save our address hash in a variable called address."
   ]
  },
  {
   "cell_type": "code",
   "execution_count": 64,
   "metadata": {
    "vscode": {
     "languageId": "shellscript"
    }
   },
   "outputs": [
    {
     "name": "stdout",
     "output_type": "stream",
     "text": [
      "the address of the destinatary is: addr_test1vqw2eumfgg5clc9u8fdhg9g5fl7flalsladpyaz2hku2wugwru2st\n"
     ]
    }
   ],
   "source": [
    "OTHER_ADDRESS=$(cat other_address.addr)\n",
    "\n",
    "echo \"the address of the destinatary is: $OTHER_ADDRESS\""
   ]
  },
  {
   "attachments": {},
   "cell_type": "markdown",
   "metadata": {},
   "source": [
    "\n",
    "### Build the Tx Payload\n",
    "\n",
    "Txs in Cardano are deterministic. An user building a Tx will need to provide all inputs, outputs, parameters, etc that describe the operation as a whole.\n",
    "\n",
    "Following the above, the 1st step required to build a Tx is to gather the data of the inputs. For this, lets query the UTxO of our address by running the following command:\n"
   ]
  },
  {
   "cell_type": "code",
   "execution_count": 67,
   "metadata": {
    "vscode": {
     "languageId": "shellscript"
    }
   },
   "outputs": [
    {
     "name": "stdout",
     "output_type": "stream",
     "text": [
      "                           TxHash                                 TxIx        Amount\n",
      "--------------------------------------------------------------------------------------\n",
      "fed2616805689edada882eb02c1d70d70f02f12f280c0b3baf6c4c2289204f87     1        9949834279 lovelace + TxOutDatumNone\n"
     ]
    }
   ],
   "source": [
    "cardano-cli query utxo \\\n",
    "    --address $MY_ADDRESS \\\n",
    "    --testnet-magic $CARDANO_NODE_MAGIC"
   ]
  },
  {
   "attachments": {},
   "cell_type": "markdown",
   "metadata": {},
   "source": [
    "\n",
    "Since we need each of those values in our transaction, we will store them individually in a corresponding variable.\n",
    "\n",
    "We also need to define how much we want to transfer. It needs to be less than the amount of available funds, also taking into account the fees for the transfer.\n",
    "\n",
    "Now we are ready to build the first transaction to calculate our fee and save it in a file called matx.raw. We will reference the variables in our transaction to improve readability because we saved almost all of the needed values in variables. This is what our transaction looks like:"
   ]
  },
  {
   "cell_type": "code",
   "execution_count": 70,
   "metadata": {
    "vscode": {
     "languageId": "shellscript"
    }
   },
   "outputs": [
    {
     "name": "stdout",
     "output_type": "stream",
     "text": [
      "Estimated transaction fee: Lovelace 165721\n"
     ]
    }
   ],
   "source": [
    "MY_TX_HASH=\"insert TxHash here\"\n",
    "MY_TX_IX=\"insert TxIx here\"\n",
    "TRANSFER_AMOUNT=\"50000000\"\n",
    "\n",
    "cardano-cli transaction build \\\n",
    " --testnet-magic $CARDANO_NODE_MAGIC \\\n",
    " --tx-in $MY_TX_HASH#$MY_TX_IX \\\n",
    " --tx-out $OTHER_ADDRESS+$TRANSFER_AMOUNT \\\n",
    " --change-address $MY_ADDRESS \\\n",
    " --out-file transfer.raw"
   ]
  },
  {
   "attachments": {},
   "cell_type": "markdown",
   "metadata": {},
   "source": [
    "we can inspect the transaction to ensure that it has what we expect"
   ]
  },
  {
   "cell_type": "code",
   "execution_count": 71,
   "metadata": {
    "vscode": {
     "languageId": "shellscript"
    }
   },
   "outputs": [
    {
     "name": "stdout",
     "output_type": "stream",
     "text": [
      "auxiliary scripts: null\n",
      "certificates: null\n",
      "collateral inputs: []\n",
      "era: Babbage\n",
      "fee: 165721 Lovelace\n",
      "inputs:\n",
      "- fed2616805689edada882eb02c1d70d70f02f12f280c0b3baf6c4c2289204f87#1\n",
      "metadata: null\n",
      "mint: null\n",
      "outputs:\n",
      "- address: addr_test1vqw2eumfgg5clc9u8fdhg9g5fl7flalsladpyaz2hku2wugwru2st\n",
      "  address era: Shelley\n",
      "  amount:\n",
      "    lovelace: 50000000\n",
      "  datum: null\n",
      "  network: Testnet\n",
      "  payment credential key hash: 1cacf36942298fe0bc3a5b7415144ffc9ff7f0ff5a12744abdb8a771\n",
      "  reference script: null\n",
      "  stake reference: null\n",
      "- address: addr_test1vzqf4qj8mj0d7ld9nfcu4s22rhnvx2f0psldjd5gm2z8j6gvqhvde\n",
      "  address era: Shelley\n",
      "  amount:\n",
      "    lovelace: 9899668558\n",
      "  datum: null\n",
      "  network: Testnet\n",
      "  payment credential key hash: 809a8247dc9edf7da59a71cac14a1de6c3292f0c3ed93688da847969\n",
      "  reference script: null\n",
      "  stake reference: null\n",
      "reference inputs: []\n",
      "required signers (payment key hashes needed for scripts): null\n",
      "return collateral: null\n",
      "total collateral: null\n",
      "update proposal: null\n",
      "validity range:\n",
      "  lower bound: null\n",
      "  upper bound: null\n",
      "withdrawals: null\n",
      "witnesses: []\n"
     ]
    }
   ],
   "source": [
    " cardano-cli transaction view --tx-file transfer.raw"
   ]
  },
  {
   "attachments": {},
   "cell_type": "markdown",
   "metadata": {},
   "source": [
    "### Sign the Transaction\n",
    "\n",
    "Transactions need to be signed to prove the authenticity and ownership of the policy key."
   ]
  },
  {
   "cell_type": "code",
   "execution_count": 72,
   "metadata": {
    "vscode": {
     "languageId": "shellscript"
    }
   },
   "outputs": [
    {
     "name": "stdout",
     "output_type": "stream",
     "text": [
      "\u001b[1;39m{\n",
      "  \u001b[0m\u001b[34;1m\"type\"\u001b[0m\u001b[1;39m: \u001b[0m\u001b[0;32m\"Witnessed Tx BabbageEra\"\u001b[0m\u001b[1;39m,\n",
      "  \u001b[0m\u001b[34;1m\"description\"\u001b[0m\u001b[1;39m: \u001b[0m\u001b[0;32m\"Ledger Cddl Format\"\u001b[0m\u001b[1;39m,\n",
      "  \u001b[0m\u001b[34;1m\"cborHex\"\u001b[0m\u001b[1;39m: \u001b[0m\u001b[0;32m\"84a30081825820fed2616805689edada882eb02c1d70d70f02f12f280c0b3baf6c4c2289204f87010182a200581d601cacf36942298fe0bc3a5b7415144ffc9ff7f0ff5a12744abdb8a771011a02faf080a200581d60809a8247dc9edf7da59a71cac14a1de6c3292f0c3ed93688da847969011b000000024e10f44e021a00028759a10081825820d308a0c373ce6e915cab83bc913eec5ec74ef3ec055cad5f73d790e4f0b7903758400f34f8e64901752d330aa0aef64750ea39110d4545ed45efceb53e51bf080fc89b6d0a9084b433a8ec14a7a7e6ce76e89a8053e27bc956df0c89d02950f7970ef5f6\"\u001b[0m\u001b[1;39m\n",
      "\u001b[1;39m}\u001b[0m\n"
     ]
    }
   ],
   "source": [
    "cardano-cli transaction sign  \\\n",
    "    --signing-key-file my_address.skey  \\\n",
    "    --testnet-magic $CARDANO_NODE_MAGIC \\\n",
    "    --tx-body-file transfer.raw  \\\n",
    "    --out-file transfer.signed\n",
    "\n",
    "jq . transfer.signed"
   ]
  },
  {
   "attachments": {},
   "cell_type": "markdown",
   "metadata": {},
   "source": [
    "\n",
    "### Submit the Transaction\n",
    "\n",
    "Now we are going to submit the transaction by running the following command:\n"
   ]
  },
  {
   "cell_type": "code",
   "execution_count": 73,
   "metadata": {
    "vscode": {
     "languageId": "shellscript"
    }
   },
   "outputs": [
    {
     "name": "stdout",
     "output_type": "stream",
     "text": [
      "Transaction successfully submitted.\n"
     ]
    }
   ],
   "source": [
    "cardano-cli transaction submit \\\n",
    "    --tx-file transfer.signed \\\n",
    "    --testnet-magic $CARDANO_NODE_MAGIC"
   ]
  },
  {
   "attachments": {},
   "cell_type": "markdown",
   "metadata": {},
   "source": [
    "Congratulations, we have now successfully transfered some ADA. After a couple of seconds, we can check the output address"
   ]
  },
  {
   "cell_type": "code",
   "execution_count": 82,
   "metadata": {
    "vscode": {
     "languageId": "shellscript"
    }
   },
   "outputs": [
    {
     "name": "stdout",
     "output_type": "stream",
     "text": [
      "                           TxHash                                 TxIx        Amount\n",
      "--------------------------------------------------------------------------------------\n",
      "62a8fc5d8870672fdac1fbbdd209553cdf4334153e67287b98678d6ccf6e00df     0        50000000 lovelace + TxOutDatumNone\n"
     ]
    }
   ],
   "source": [
    "cardano-cli query utxo \\\n",
    "    --address $OTHER_ADDRESS \\\n",
    "    --testnet-magic $CARDANO_NODE_MAGIC"
   ]
  },
  {
   "attachments": {},
   "cell_type": "markdown",
   "metadata": {},
   "source": [
    "## Minting Native Assets"
   ]
  },
  {
   "cell_type": "markdown",
   "metadata": {},
   "source": [
    "### Create Minting Keys\n",
    "\n",
    "Policies are the defining factor under which tokens can be minted. Only those in possession of the policy keys can mint or burn tokens minted under this specific policy. We'll make a separate sub-directory in our work directory to keep everything policy-wise separated and more organized. For further reading, please check the official docs or the github page about multi-signature scripts.\n",
    "\n",
    "First of all, we — again — need some key pairs:"
   ]
  },
  {
   "cell_type": "code",
   "execution_count": 83,
   "metadata": {
    "vscode": {
     "languageId": "shellscript"
    }
   },
   "outputs": [],
   "source": [
    "cardano-cli address key-gen \\\n",
    "    --verification-key-file asset_policy.vkey \\\n",
    "    --signing-key-file asset_policy.skey"
   ]
  },
  {
   "attachments": {},
   "cell_type": "markdown",
   "metadata": {},
   "source": [
    "### Hash the Key\n",
    "\n",
    "We need to find the hash of the key we just generated, it will be used as data to create the policy script:"
   ]
  },
  {
   "cell_type": "code",
   "execution_count": 84,
   "metadata": {
    "vscode": {
     "languageId": "shellscript"
    }
   },
   "outputs": [
    {
     "name": "stdout",
     "output_type": "stream",
     "text": [
      "my policy hash is 540b538069c3087556293192baf85a4040104404a265933a3fab4c41\n"
     ]
    }
   ],
   "source": [
    "POLICY_HASH=$(cardano-cli address key-hash --payment-verification-key-file asset_policy.vkey)\n",
    "\n",
    "echo \"my policy hash is $POLICY_HASH\""
   ]
  },
  {
   "attachments": {},
   "cell_type": "markdown",
   "metadata": {},
   "source": [
    "### Create a Policy Script\n",
    "\n",
    "We need to create a file that defines the policy verification key as a witness to sign the minting transaction. There are no further constraints such as token locking or requiring specific signatures to successfully submit a transaction with this minting policy.\n",
    "\n",
    "Create a new `policy.script` with the following json content, replacing the required values with the data gathered in the previous steps:\n",
    "\n",
    "```json\n",
    "{\n",
    "    \"keyHash\": \"<POLICY_HASH>\",\n",
    "    \"type\": \"sig\"\n",
    "}\n",
    "```\n",
    "\n",
    "> **Warning**\n",
    "> make sure to replace the `<POLICY_HASH>` string with the value computed in the previous step."
   ]
  },
  {
   "cell_type": "code",
   "execution_count": 85,
   "metadata": {
    "vscode": {
     "languageId": "shellscript"
    }
   },
   "outputs": [
    {
     "name": "stdout",
     "output_type": "stream",
     "text": [
      "\u001b[1;39m{\n",
      "  \u001b[0m\u001b[34;1m\"type\"\u001b[0m\u001b[1;39m: \u001b[0m\u001b[0;32m\"sig\"\u001b[0m\u001b[1;39m,\n",
      "  \u001b[0m\u001b[34;1m\"keyHash\"\u001b[0m\u001b[1;39m: \u001b[0m\u001b[0;32m\"540b538069c3087556293192baf85a4040104404a265933a3fab4c41\"\u001b[0m\u001b[1;39m\n",
      "\u001b[1;39m}\u001b[0m\n"
     ]
    }
   ],
   "source": [
    "echo \"{\\\"type\\\": \\\"sig\\\", \\\"keyHash\\\" : \\\"$POLICY_HASH\\\" }\" > policy.script\n",
    "\n",
    "jq . policy.script"
   ]
  },
  {
   "attachments": {},
   "cell_type": "markdown",
   "metadata": {},
   "source": [
    "### Compute the Policy Id\n",
    "\n",
    "To mint the native assets, we need to generate the policy ID from the script file we created."
   ]
  },
  {
   "cell_type": "code",
   "execution_count": 86,
   "metadata": {
    "vscode": {
     "languageId": "shellscript"
    }
   },
   "outputs": [
    {
     "name": "stdout",
     "output_type": "stream",
     "text": [
      "my policy id is eea157d949cf2d30f16484cb1891a123892667540a2392629ef8f059\n"
     ]
    }
   ],
   "source": [
    "POLICY_ID=$(cardano-cli transaction policyid --script-file policy.script)\n",
    "\n",
    "echo \"my policy id is $POLICY_ID\""
   ]
  },
  {
   "attachments": {},
   "cell_type": "markdown",
   "metadata": {},
   "source": [
    "\n",
    "The output gets persisted in the `POLICY_ID` variable as we need to reference it later on.\n"
   ]
  },
  {
   "attachments": {},
   "cell_type": "markdown",
   "metadata": {},
   "source": [
    "\n",
    "### Define the Token to Mint\n",
    "\n",
    "We need to defined the name for our token and the amount that we want to mint. Use the following snippet to define the values to use in following steps:\n",
    "\n",
    "```\n",
    "TOKEN_NAME=\"54657374746F6B656E\"\n",
    "TOKEN_AMOUNT=\"10000000\"\n",
    "```"
   ]
  },
  {
   "attachments": {},
   "cell_type": "markdown",
   "metadata": {},
   "source": [
    "\n",
    "### Build the Tx\n",
    "\n",
    "As we saw in part [02](./02-build-transactions.md) of the tutorial, building a transaction requires knowledge of the available UTxO in the address. Use the following command to query our address:"
   ]
  },
  {
   "cell_type": "code",
   "execution_count": 87,
   "metadata": {
    "vscode": {
     "languageId": "shellscript"
    }
   },
   "outputs": [
    {
     "name": "stdout",
     "output_type": "stream",
     "text": [
      "                           TxHash                                 TxIx        Amount\n",
      "--------------------------------------------------------------------------------------\n",
      "62a8fc5d8870672fdac1fbbdd209553cdf4334153e67287b98678d6ccf6e00df     1        9899668558 lovelace + TxOutDatumNone\n"
     ]
    }
   ],
   "source": [
    "cardano-cli query utxo \\\n",
    "    --address $MY_ADDRESS \\\n",
    "    --testnet-magic $CARDANO_NODE_MAGIC"
   ]
  },
  {
   "attachments": {},
   "cell_type": "markdown",
   "metadata": {},
   "source": [
    "\n",
    "> **Note**\n",
    "> This is the same command we executed when we queried our funds earlier in the tutorial.\n"
   ]
  },
  {
   "attachments": {},
   "cell_type": "markdown",
   "metadata": {},
   "source": [
    "\n",
    "Since we need each of those values in our transaction, we will store them individually in a corresponding variable."
   ]
  },
  {
   "cell_type": "code",
   "execution_count": 88,
   "metadata": {
    "vscode": {
     "languageId": "shellscript"
    }
   },
   "outputs": [],
   "source": [
    "TX_HASH=\"instert TxHash here\"\n",
    "TX_IX=\"insert TxIx here\"\n",
    "TX_AMOUNT=\"9899668558\""
   ]
  },
  {
   "attachments": {},
   "cell_type": "markdown",
   "metadata": {},
   "source": [
    "\n",
    "Our transaction will require to pay fees. For simplicity (and because we're using test ADA), we'll just put a high number to ensure that we cover the required amount:\n"
   ]
  },
  {
   "cell_type": "code",
   "execution_count": 89,
   "metadata": {
    "vscode": {
     "languageId": "shellscript"
    }
   },
   "outputs": [],
   "source": [
    "FEE=200000"
   ]
  },
  {
   "attachments": {},
   "cell_type": "markdown",
   "metadata": {},
   "source": [
    "\n",
    "To balance the transaction, we need to know which will be the remaining amount of our UTxO once we pay the fees. For that, we calculate the value using the following command:\n"
   ]
  },
  {
   "cell_type": "code",
   "execution_count": 90,
   "metadata": {
    "vscode": {
     "languageId": "shellscript"
    }
   },
   "outputs": [],
   "source": [
    "let REMAINING=$TX_AMOUNT-$FEE"
   ]
  },
  {
   "attachments": {},
   "cell_type": "markdown",
   "metadata": {},
   "source": [
    "\n",
    "We will reference the variables in our transaction to improve readability because we saved almost all of the needed values in variables. This is what our transaction looks like:\n"
   ]
  },
  {
   "cell_type": "code",
   "execution_count": 92,
   "metadata": {
    "vscode": {
     "languageId": "shellscript"
    }
   },
   "outputs": [],
   "source": [
    "TOKEN_NAME=\"54657374746F6B656E\"\n",
    "TOKEN_AMOUNT=\"10000000\"\n",
    "\n",
    "cardano-cli transaction build-raw \\\n",
    " --fee $FEE \\\n",
    " --tx-in $TX_HASH#$TX_IX \\\n",
    " --tx-out $MY_ADDRESS+$REMAINING+\"$TOKEN_AMOUNT $POLICY_ID.$TOKEN_NAME\" \\\n",
    " --mint \"$TOKEN_AMOUNT $POLICY_ID.$TOKEN_NAME\" \\\n",
    " --minting-script-file policy.script \\\n",
    " --out-file mint.raw"
   ]
  },
  {
   "cell_type": "code",
   "execution_count": 94,
   "metadata": {
    "vscode": {
     "languageId": "shellscript"
    }
   },
   "outputs": [
    {
     "name": "stdout",
     "output_type": "stream",
     "text": [
      "auxiliary scripts: null\n",
      "certificates: null\n",
      "collateral inputs: []\n",
      "era: Babbage\n",
      "fee: 200000 Lovelace\n",
      "inputs:\n",
      "- 62a8fc5d8870672fdac1fbbdd209553cdf4334153e67287b98678d6ccf6e00df#1\n",
      "metadata: null\n",
      "mint:\n",
      "  policy eea157d949cf2d30f16484cb1891a123892667540a2392629ef8f059:\n",
      "    asset 54657374746f6b656e (Testtoken): 10000000\n",
      "outputs:\n",
      "- address: addr_test1vzqf4qj8mj0d7ld9nfcu4s22rhnvx2f0psldjd5gm2z8j6gvqhvde\n",
      "  address era: Shelley\n",
      "  amount:\n",
      "    lovelace: 9899468558\n",
      "    policy eea157d949cf2d30f16484cb1891a123892667540a2392629ef8f059:\n",
      "      asset 54657374746f6b656e (Testtoken): 10000000\n",
      "  datum: null\n",
      "  network: Testnet\n",
      "  payment credential key hash: 809a8247dc9edf7da59a71cac14a1de6c3292f0c3ed93688da847969\n",
      "  reference script: null\n",
      "  stake reference: null\n",
      "reference inputs: []\n",
      "required signers (payment key hashes needed for scripts): null\n",
      "return collateral: null\n",
      "total collateral: null\n",
      "update proposal: null\n",
      "validity range:\n",
      "  lower bound: null\n",
      "  upper bound: null\n",
      "withdrawals: null\n"
     ]
    }
   ],
   "source": [
    "cardano-cli transaction view --tx-body-file mint.raw"
   ]
  },
  {
   "attachments": {},
   "cell_type": "markdown",
   "metadata": {},
   "source": [
    "\n",
    "### Sign the Transaction\n",
    "\n",
    "Transactions need to be signed to prove the authenticity and ownership of the policy key.\n"
   ]
  },
  {
   "cell_type": "code",
   "execution_count": 95,
   "metadata": {
    "vscode": {
     "languageId": "shellscript"
    }
   },
   "outputs": [],
   "source": [
    "cardano-cli transaction sign  \\\n",
    "    --signing-key-file my_address.skey  \\\n",
    "    --signing-key-file asset_policy.skey  \\\n",
    "    --testnet-magic $CARDANO_NODE_MAGIC \\\n",
    "    --tx-body-file mint.raw  \\\n",
    "    --out-file mint.signed"
   ]
  },
  {
   "attachments": {},
   "cell_type": "markdown",
   "metadata": {},
   "source": [
    "\n",
    "### Submit the Transaction\n",
    "\n",
    "Now we are going to submit the transaction, therefore minting our native assets:\n"
   ]
  },
  {
   "cell_type": "code",
   "execution_count": 96,
   "metadata": {
    "vscode": {
     "languageId": "shellscript"
    }
   },
   "outputs": [
    {
     "name": "stdout",
     "output_type": "stream",
     "text": [
      "Transaction successfully submitted.\n"
     ]
    }
   ],
   "source": [
    "cardano-cli transaction submit \\\n",
    "    --tx-file mint.signed \\\n",
    "    --testnet-magic $CARDANO_NODE_MAGIC"
   ]
  },
  {
   "attachments": {},
   "cell_type": "markdown",
   "metadata": {},
   "source": [
    "Congratulations, we have now successfully minted our own token. After a couple of seconds, we can check the output address"
   ]
  },
  {
   "cell_type": "code",
   "execution_count": 100,
   "metadata": {
    "vscode": {
     "languageId": "shellscript"
    }
   },
   "outputs": [
    {
     "name": "stdout",
     "output_type": "stream",
     "text": [
      "                           TxHash                                 TxIx        Amount\n",
      "--------------------------------------------------------------------------------------\n",
      "05faf31b9626187861cf8f567c2ac92a8da525b05a8a9e013f56d41b3a65efed     0        9899468558 lovelace + 10000000 eea157d949cf2d30f16484cb1891a123892667540a2392629ef8f059.54657374746f6b656e + TxOutDatumNone\n"
     ]
    }
   ],
   "source": [
    "cardano-cli query utxo --address $MY_ADDRESS --testnet-magic $CARDANO_NODE_MAGIC"
   ]
  },
  {
   "attachments": {},
   "cell_type": "markdown",
   "metadata": {},
   "source": [
    "After a few seconds, you should be able to see that your address holds the newly minted assets"
   ]
  }
 ],
 "metadata": {
  "kernelspec": {
   "display_name": "Bash",
   "language": "bash",
   "name": "bash"
  },
  "language_info": {
   "codemirror_mode": "shell",
   "file_extension": ".sh",
   "mimetype": "text/x-sh",
   "name": "bash"
  },
  "orig_nbformat": 4
 },
 "nbformat": 4,
 "nbformat_minor": 2
}
